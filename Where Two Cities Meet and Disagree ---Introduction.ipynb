{
 "cells": [
  {
   "cell_type": "markdown",
   "metadata": {},
   "source": [
    "#                               Where two cities meet and disagree.\n",
    "###                  (A case study of Application of Foursquare and Machine Learning algorithms)\n",
    "##                                                           By\n",
    " #                                      Marcel I. Ngwueke \n"
   ]
  },
  {
   "cell_type": "markdown",
   "metadata": {},
   "source": [
    "## A.     Introduction:   In this project, we apply Foursquare location data to the investigation of three famous cities in the world. These cities are located in the world classified as developed nations, U.S., and Canada. The study is going to be a case study to the concepts of Machine Learning of Data science through the application of Foursquare location data or preferably foursquare venue database. Foursquare API check-in had been used to redefine the notion of a neighborhood by clustering city venues into aggregate areas depicting the check-in patterns of like-minded peoples. "
   ]
  },
  {
   "cell_type": "markdown",
   "metadata": {},
   "source": [
    "## It’s possible, as shown by Cranshaw and Yano1 to partition cities into grids, and then cluster the output grid in terms of the types of venues found there, which could reveal patterns of land usage across cities."
   ]
  },
  {
   "cell_type": "markdown",
   "metadata": {},
   "source": [
    "## Moreso, individuals seeking restaurants, bars, movie theatres, coffee shops, malls, spa, colleges, or schools within a city can use the foursquare API to locate any of these places of interest or entertainment. Similarly, corporations that require new office complexes use this application to achieve this purpose. All these are affected by residents, visitors, and the flow of people within this environment or neighborhood. Based on these factors, venues can be recommended for shop complexes or other businesses.\n",
    "\n"
   ]
  },
  {
   "cell_type": "markdown",
   "metadata": {},
   "source": [
    "## City analysis can be classified into two types, crowdsourcing, and social data system. Using Foursquare location data falls under the latter category, which is a location-based social network. It involves data generation about human activities in city community areas. Foursquare API  will facilitate getting venues of important places. And more importantly, we will obtain relevant information for each nearby venue after sending a request."
   ]
  },
  {
   "cell_type": "markdown",
   "metadata": {},
   "source": [
    "## The city of Chicago is one of the largest cities in the U.S., with a population close to 3 million. It’s located on Lake Michigan in Illinois, and is famous for its magnificent edifices or architecture, with its skyline adorned by skyscrapers such as the John Hancock Center, Willis Tower, and the neo-Gothic Tribune Tower. Like most prominent cities in the world, the City of Chicago is famed for its over 600 fascinating museums, 77 unique community areas, which are grouped into nine distinct sections namely central, far northside, far southeast side, far southwest side, south side, southwest side, and west side; with over 300 informally defined neighborhoods. It has thousands of acclaimed restaurants, bars, and breweries, amphitheaters, colleges, and universities.\n",
    "\n"
   ]
  },
  {
   "cell_type": "markdown",
   "metadata": {},
   "source": [
    "## Toronto is another city we would study. One thing about Toronto is its diversity and culture, which is reflected in its many neighborhoods. The city of Toronto is composed of 140 neighborhoods grouped into 6 distinct Boroughs. It’s the capital of the province of Ontario and is a major Canadian city along the lake Ontario's Northwestern shore. Toronto, as of 2017, has about 2.93 million inhabitants living in it; and it’s famed with a core of soaring skyscrapers, all dwarfed by the iconic free towering CN Tower.\n",
    "\n",
    "## Some of the neighborhoods have interesting places like Art Gallery of Ontario, authentic Chinese, Japanese, Thai, and Vietnamese cuisines, Luckee Restaurant and bar, Yuk Yuk’s comedy club. With the application of the Foursquare location data query search, we can identify these places of interest.\n",
    "\n"
   ]
  },
  {
   "cell_type": "markdown",
   "metadata": {},
   "source": [
    "# B.     Business Problem:"
   ]
  },
  {
   "cell_type": "markdown",
   "metadata": {},
   "source": [
    "## The year 2020 has witnessed tremendous events that changed so many things. The foremost is the pandemic that sweeps across the entire universe, that people now live in apprehension of being infected knowing the possible consequence that would follow. So many countries, cities adopted locked-down to curtail the spread within the city neighborhoods, and reduce mortality rates.\n",
    "\n",
    "## Sequel to that is the continuous increase in violence, shootings, and criminal activities as well as social unrest due to police brutality on a certain ethnic group. We augment these into this study to determine its impacts on these cities and their neighborhoods.\n"
   ]
  },
  {
   "cell_type": "markdown",
   "metadata": {},
   "source": [
    "## (i)\tThis study intends to compare and contrast two prominent cities (Chicago. and Toronto ) utilizing a clustering technique based on the venue categories of the different cities’ neighborhoods. It can help a potential job seeker to match his skills with the location of the neighborhood of his choice.\n",
    "\n",
    "## (ii)\tWe also examined all these cities to ascertain how crime-free their neighborhoods are. This will facilitate someone buying or renting a home to make a firm decision of eschewing crime-infectious neighborhoods.\n",
    "\n",
    "## (iii)\tExploring possible relationships between these cities will closely expatiate the similarities and dissimilarities as a result of the finding from the Foursquare API query search.\n",
    "\n",
    "## (iv)\tWe also examined the confirmed cases of covid-19 in most of the cities’ neighborhoods. This analysis would infer how these neighborhoods are congested or populated with dense human interactions or activities that caused the spread of the virus.\n"
   ]
  },
  {
   "cell_type": "code",
   "execution_count": null,
   "metadata": {},
   "outputs": [],
   "source": []
  }
 ],
 "metadata": {
  "kernelspec": {
   "display_name": "Python 3",
   "language": "python",
   "name": "python3"
  },
  "language_info": {
   "codemirror_mode": {
    "name": "ipython",
    "version": 3
   },
   "file_extension": ".py",
   "mimetype": "text/x-python",
   "name": "python",
   "nbconvert_exporter": "python",
   "pygments_lexer": "ipython3",
   "version": "3.9.0"
  }
 },
 "nbformat": 4,
 "nbformat_minor": 4
}
